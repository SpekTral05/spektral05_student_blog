{
 "cells": [
  {
   "cell_type": "raw",
   "metadata": {
    "vscode": {
     "languageId": "raw"
    }
   },
   "source": [
    "---\n",
    "layout: post\n",
    "title: Nested Conditionals, Homework\n",
    "description:  Homework for nested conditionals\n",
    "type: issues \n",
    "comments: true\n",
    "permalink: /csse/lesson/nestedconditionals/homework\n",
    "---"
   ]
  },
  {
   "cell_type": "markdown",
   "metadata": {},
   "source": [
    "### Homework Objectives\n",
    "\n",
    "You and your friend want to do different things at the amusement park. To decide, you do a coin flip. Heads means that you get to choose where to go and tails means that your friend gets to choose. If you go on a ride, be sure to check if you are the right height and have enough tickets, and if you go to a food stand, make sure that you have enough money and that the food is in stock. Be creative, and make sure to use nested conditionals!"
   ]
  },
  {
   "cell_type": "markdown",
   "metadata": {},
   "source": [
    "### Instructions\n",
    "\n",
    "1) Create a JavaScript file (Ex. insertName.js)\n",
    "\n",
    "2) Plan out what you will be doing and make variables for the necessary things. There will be a coin flip, so make a variable for that. If there are rides, make a value for the amount of tickets the person has and what height they are. If they go to a food stand, you can make a variable for the amount of money that you have and if the food is in stock.\n",
    "\n",
    "3) Use Math.random() for the coin flip. This generates a number between 0 and 1, so then you multiply this value by 2 and put it inside Math.floor() to round down and get either 0 or 1. Make this the coin flip variable.\n",
    "\n",
    "4) Use an if statement to check what the result of the coin flip was and use console.log to print out a statement to see who won or lost the coin flip. Along with that, print out where they are going next.\n",
    "\n",
    "5) Use more if statements inside of if statements to check if the person can do what they want to do. (Are they tall enough, do they have enough money, etc.)\n",
    "\n",
    "6) After all the checks, print out a result of what happened. If you get stuck, you can look at the examples in the popcorn hacks. Please don't copy and paste, though! \n"
   ]
  },
  {
   "cell_type": "code",
   "execution_count": 2,
   "metadata": {
    "vscode": {
     "languageId": "javascript"
    }
   },
   "outputs": [
    {
     "data": {
      "application/javascript": "\n//create the variables\nlet coinFlip = Math.floor(Math.random() * 2); // 0 or 1\nlet tickets = 5; // amount of tickets the person has\nlet height = 52; // height in inches\nlet money = 20; // amount of money the person has in dollars\nlet foodInStock = true; // whether food is available at the stand\n\nlet myChoice = \"ride\"; // my choice: \"ride\" or \"food\"\nlet friendChoice = \"food\"; // friend's choice: \"ride\" or \"food\"\n\n// coin flip result\nif (coinFlip === 0) {\n    console.log(\"The coin flip resulted in HEADS! It's your choice.\");\n\n    if (myChoice === \"food\") {\n        console.log(\"You chose to go to the food stand.\");\n\n        // check if food is in stock and money is sufficient\n        if (foodInStock) {\n            if (money >= 5) {\n                console.log(\"The food is in stock and you have enough money. Enjoy your snack!\");\n                money -= 5; // reduce money\n            } else {\n                console.log(\"You do not have enough money to buy food.\");\n            }\n        } else {\n            console.log(\"The food is out of stock. Try again later.\");\n        }\n    } else if (myChoice === \"ride\") {\n        console.log(\"You chose to go on a ride.\");\n\n        // check if tickets and height are sufficient\n        if (tickets >= 2) {\n            if (height >= 48) {\n                console.log(\"You have enough tickets and are tall enough to go on the ride. Enjoy!\");\n                tickets -= 2; // deduct tickets\n            } else {\n                console.log(\"Sorry, you are not tall enough to go on the ride.\");\n            }\n        } else {\n            console.log(\"You do not have enough tickets to go on the ride.\");\n        }\n    }\n} else {\n    console.log(\"The coin flip resulted in TAILS! It's your friend's choice.\");\n\n    if (friendChoice === \"food\") {\n        console.log(\"Your friend chose to go to the food stand.\");\n\n        // check if food is in stock and money is sufficient\n        if (foodInStock) {\n            if (money >= 5) {\n                console.log(\"The food is in stock and you have enough money. Your friend enjoys their snack!\");\n                money -= 5; // deduct money\n            } else {\n                console.log(\"You do not have enough money to buy food for your friend.\");\n            }\n        } else {\n            console.log(\"The food is out of stock. Your friend will have to wait.\");\n        }\n    } else if (friendChoice === \"ride\") {\n        console.log(\"Your friend chose to go on a ride.\");\n\n        // check if tickets and height are sufficient\n        if (tickets >= 2) {\n            if (height >= 48) {\n                console.log(\"You have enough tickets and are tall enough to go on the ride with your friend. Enjoy!\");\n                tickets -= 2; // deduct tickets\n            } else {\n                console.log(\"Sorry, you are not tall enough to go on the ride with your friend.\");\n            }\n        } else {\n            console.log(\"You do not have enough tickets to go on the ride with your friend.\");\n        }\n    }\n}\n\n// final stats\nconsole.log(\"Remaining tickets:\", tickets);\nconsole.log(\"Remaining money:\", money);\n",
      "text/plain": [
       "<IPython.core.display.Javascript object>"
      ]
     },
     "metadata": {},
     "output_type": "display_data"
    }
   ],
   "source": [
    "%%js\n",
    "\n",
    "//create the variables\n",
    "let coinFlip = Math.floor(Math.random() * 2); // 0 or 1\n",
    "let tickets = 5; // amount of tickets the person has\n",
    "let height = 52; // height in inches\n",
    "let money = 20; // amount of money the person has in dollars\n",
    "let foodInStock = true; // whether food is available at the stand\n",
    "\n",
    "let myChoice = \"ride\"; // my choice: \"ride\" or \"food\"\n",
    "let friendChoice = \"food\"; // friend's choice: \"ride\" or \"food\"\n",
    "\n",
    "// coin flip result\n",
    "if (coinFlip === 0) {\n",
    "    console.log(\"The coin flip resulted in HEADS! It's your choice.\");\n",
    "\n",
    "    if (myChoice === \"food\") {\n",
    "        console.log(\"You chose to go to the food stand.\");\n",
    "\n",
    "        // check if food is in stock and money is sufficient\n",
    "        if (foodInStock) {\n",
    "            if (money >= 5) {\n",
    "                console.log(\"The food is in stock and you have enough money. Enjoy your snack!\");\n",
    "                money -= 5; // reduce money\n",
    "            } else {\n",
    "                console.log(\"You do not have enough money to buy food.\");\n",
    "            }\n",
    "        } else {\n",
    "            console.log(\"The food is out of stock. Try again later.\");\n",
    "        }\n",
    "    } else if (myChoice === \"ride\") {\n",
    "        console.log(\"You chose to go on a ride.\");\n",
    "\n",
    "        // check if tickets and height are sufficient\n",
    "        if (tickets >= 2) {\n",
    "            if (height >= 48) {\n",
    "                console.log(\"You have enough tickets and are tall enough to go on the ride. Enjoy!\");\n",
    "                tickets -= 2; // deduct tickets\n",
    "            } else {\n",
    "                console.log(\"Sorry, you are not tall enough to go on the ride.\");\n",
    "            }\n",
    "        } else {\n",
    "            console.log(\"You do not have enough tickets to go on the ride.\");\n",
    "        }\n",
    "    }\n",
    "} else {\n",
    "    console.log(\"The coin flip resulted in TAILS! It's your friend's choice.\");\n",
    "\n",
    "    if (friendChoice === \"food\") {\n",
    "        console.log(\"Your friend chose to go to the food stand.\");\n",
    "\n",
    "        // check if food is in stock and money is sufficient\n",
    "        if (foodInStock) {\n",
    "            if (money >= 5) {\n",
    "                console.log(\"The food is in stock and you have enough money. Your friend enjoys their snack!\");\n",
    "                money -= 5; // deduct money\n",
    "            } else {\n",
    "                console.log(\"You do not have enough money to buy food for your friend.\");\n",
    "            }\n",
    "        } else {\n",
    "            console.log(\"The food is out of stock. Your friend will have to wait.\");\n",
    "        }\n",
    "    } else if (friendChoice === \"ride\") {\n",
    "        console.log(\"Your friend chose to go on a ride.\");\n",
    "\n",
    "        // check if tickets and height are sufficient\n",
    "        if (tickets >= 2) {\n",
    "            if (height >= 48) {\n",
    "                console.log(\"You have enough tickets and are tall enough to go on the ride with your friend. Enjoy!\");\n",
    "                tickets -= 2; // deduct tickets\n",
    "            } else {\n",
    "                console.log(\"Sorry, you are not tall enough to go on the ride with your friend.\");\n",
    "            }\n",
    "        } else {\n",
    "            console.log(\"You do not have enough tickets to go on the ride with your friend.\");\n",
    "        }\n",
    "    }\n",
    "}\n",
    "\n",
    "// final stats\n",
    "console.log(\"Remaining tickets:\", tickets);\n",
    "console.log(\"Remaining money:\", money);\n"
   ]
  }
 ],
 "metadata": {
  "kernelspec": {
   "display_name": "venv",
   "language": "python",
   "name": "python3"
  },
  "language_info": {
   "codemirror_mode": {
    "name": "ipython",
    "version": 3
   },
   "file_extension": ".py",
   "mimetype": "text/x-python",
   "name": "python",
   "nbconvert_exporter": "python",
   "pygments_lexer": "ipython3",
   "version": "3.9.6"
  }
 },
 "nbformat": 4,
 "nbformat_minor": 2
}
