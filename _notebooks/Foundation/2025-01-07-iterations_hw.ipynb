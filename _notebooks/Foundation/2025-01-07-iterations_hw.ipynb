{
 "cells": [
  {
   "cell_type": "code",
   "execution_count": null,
   "metadata": {},
   "outputs": [],
   "source": [
    "---\n",
    "comments: True\n",
    "layout: post\n",
    "title: Iteration Homework\n",
    "description: Iterations HW\n",
    "permalink: /csse/javascript/fundamentals/iteration/hw\n",
    "categories: [CSSE JavaScript Fundamentals]\n",
    "author: Andrew Ge, Ishan Shrivastava, Pratheep Natarajan, and Ruhaan Bansal\n",
    "---  "
   ]
  },
  {
   "cell_type": "markdown",
   "metadata": {},
   "source": [
    "### Exercise 1: Multiplication Table\n",
    "##### Write a JavaScript program to print the multiplication table for a given number."
   ]
  },
  {
   "cell_type": "code",
   "execution_count": 2,
   "metadata": {
    "vscode": {
     "languageId": "javascript"
    }
   },
   "outputs": [
    {
     "data": {
      "application/javascript": "function multiplicationTable(number) { //create the function called multiplicationTable\n    for (let i = 1; i <= 10; i++) {//scroll through 10 values\n        console.log(`${number} x ${i} = ${number * i}`);//write the number times the current loop value = product\n    }\n}\nmultiplicationTable(3);\n",
      "text/plain": [
       "<IPython.core.display.Javascript object>"
      ]
     },
     "metadata": {},
     "output_type": "display_data"
    }
   ],
   "source": [
    "%%js\n",
    "function multiplicationTable(number) { //create the function called multiplicationTable\n",
    "    for (let i = 1; i <= 10; i++) {//scroll through 10 values\n",
    "        console.log(`${number} x ${i} = ${number * i}`);//write the number times the current loop value = product\n",
    "    }\n",
    "}\n",
    "multiplicationTable(3);"
   ]
  },
  {
   "cell_type": "markdown",
   "metadata": {},
   "source": [
    "##### Example:\n",
    "##### Input: 3\n",
    "##### Output:\n",
    "##### 3 x 1 = 3\n",
    "##### 3 x 2 = 6\n",
    "##### ...\n",
    "##### 3 x 10 = 30"
   ]
  },
  {
   "cell_type": "markdown",
   "metadata": {},
   "source": [
    "### Exercise 2: Nested Loops\n",
    "##### Write a JavaScript program using nested loops to generate the following pattern:"
   ]
  },
  {
   "cell_type": "code",
   "execution_count": null,
   "metadata": {
    "vscode": {
     "languageId": "javascript"
    }
   },
   "outputs": [
    {
     "data": {
      "application/javascript": "for (let i = 1; i <= 5; i++) {//initiate the loop\n    let zeroes = \"\";//create an empty value of the zeroes\n    for (let j = 1; j <= i; j++) {//create the nested loop \n        zeroes += \"0\";//add a zero to the zeroes term\n    }\n    console.log(zeroes);//print the amount of zeros every iteration\n}\n",
      "text/plain": [
       "<IPython.core.display.Javascript object>"
      ]
     },
     "metadata": {},
     "output_type": "display_data"
    }
   ],
   "source": [
    "%%js \n",
    "for (let i = 1; i <= 5; i++) {//initiate the loop\n",
    "    let zeroes = \"\";//create an empty value of the zeroes\n",
    "    for (let j = 1; j <= i; j++) {//create the nested loop \n",
    "        zeroes += \"0\";//add a zero to the zeroes term\n",
    "    }\n",
    "    console.log(zeroes);//print the amount of zeros every iteration\n",
    "}\n",
    "//since the first loop is until i<=5, it will print 5 zeroes before breaking"
   ]
  },
  {
   "cell_type": "markdown",
   "metadata": {},
   "source": [
    "##### Output:\n",
    "##### 0\n",
    "##### 00\n",
    "##### 000\n",
    "##### 0000\n",
    "##### 00000"
   ]
  },
  {
   "cell_type": "markdown",
   "metadata": {},
   "source": [
    "### Challenge Exercise: Prime Numbers\n",
    "##### Write a JavaScript program to print all prime numbers between 1 and 50."
   ]
  },
  {
   "cell_type": "markdown",
   "metadata": {},
   "source": [
    "# End of Homework"
   ]
  },
  {
   "cell_type": "code",
   "execution_count": null,
   "metadata": {
    "vscode": {
     "languageId": "javascript"
    }
   },
   "outputs": [],
   "source": [
    "%%js\n",
    "\n",
    "const canvas = document.getElementById(\"gameCanvas\");\n",
    "const ctx = canvas.getContext(\"2d\");\n",
    "\n",
    "// Load images (Replace with actual sprite URLs)\n",
    "const aaravImg = new Image();\n",
    "const ruhaanImg = new Image();\n",
    "const bulletImg = new Image();\n",
    "const enemyBulletImg = new Image();\n",
    "\n",
    "aaravImg.src = \"path_to_aarav_sprite.png\";\n",
    "ruhaanImg.src = \"path_to_ruhaan_sprite.png\";\n",
    "bulletImg.src = \"path_to_bullet_sprite.png\";\n",
    "enemyBulletImg.src = \"path_to_enemy_bullet_sprite.png\";\n",
    "\n",
    "// Game variables\n",
    "const gravity = 0.5;\n",
    "const floor = canvas.height - 50; // Ground level\n",
    "\n",
    "// Aarav (Player)\n",
    "let aarav = {\n",
    "    x: 100,\n",
    "    y: floor,\n",
    "    width: 50,\n",
    "    height: 50,\n",
    "    dx: 0,\n",
    "    dy: 0,\n",
    "    speed: 5,\n",
    "    jumping: false,\n",
    "    health: 100,\n",
    "    bullets: []\n",
    "};\n",
    "\n",
    "// Ruhaan (Boss)\n",
    "let ruhaan = {\n",
    "    x: canvas.width - 200,\n",
    "    y: floor,\n",
    "    width: 80,\n",
    "    height: 80,\n",
    "    dx: 2,\n",
    "    dy: 0,\n",
    "    health: 300,\n",
    "    bullets: [],\n",
    "    jumpCooldown: 0,\n",
    "    attackCooldown: 0\n",
    "};\n",
    "\n",
    "// Key event listeners\n",
    "let keys = {};\n",
    "document.addEventListener(\"keydown\", (e) => keys[e.key] = true);\n",
    "document.addEventListener(\"keyup\", (e) => keys[e.key] = false);\n",
    "\n",
    "// Bullet class\n",
    "class Bullet {\n",
    "    constructor(x, y, dx, isEnemy) {\n",
    "        this.x = x;\n",
    "        this.y = y;\n",
    "        this.dx = dx;\n",
    "        this.width = 10;\n",
    "        this.height = 5;\n",
    "        this.isEnemy = isEnemy;\n",
    "    }\n",
    "    update() {\n",
    "        this.x += this.dx;\n",
    "    }\n",
    "    draw() {\n",
    "        ctx.drawImage(this.isEnemy ? enemyBulletImg : bulletImg, this.x, this.y, this.width, this.height);\n",
    "    }\n",
    "}\n",
    "\n",
    "// Game loop\n",
    "function update() {\n",
    "    // Player movement\n",
    "    if (keys[\"ArrowLeft\"]) aarav.dx = -aarav.speed;\n",
    "    else if (keys[\"ArrowRight\"]) aarav.dx = aarav.speed;\n",
    "    else aarav.dx = 0;\n",
    "    \n",
    "    // Jumping\n",
    "    if (keys[\"ArrowUp\"] && !aarav.jumping) {\n",
    "        aarav.dy = -10;\n",
    "        aarav.jumping = true;\n",
    "    }\n",
    "    \n",
    "    // Gravity\n",
    "    aarav.dy += gravity;\n",
    "    aarav.y += aarav.dy;\n",
    "    \n",
    "    if (aarav.y >= floor) {\n",
    "        aarav.y = floor;\n",
    "        aarav.jumping = false;\n",
    "    }\n",
    "    \n",
    "    aarav.x += aarav.dx;\n",
    "    \n",
    "    // Shooting\n",
    "    if (keys[\" \"]) {\n",
    "        aarav.bullets.push(new Bullet(aarav.x + aarav.width, aarav.y + aarav.height / 2, 7, false));\n",
    "    }\n",
    "    \n",
    "    // Update bullets\n",
    "    aarav.bullets.forEach((b) => b.update());\n",
    "    ruhaan.bullets.forEach((b) => b.update());\n",
    "    \n",
    "    // Remove off-screen bullets\n",
    "    aarav.bullets = aarav.bullets.filter((b) => b.x < canvas.width);\n",
    "    ruhaan.bullets = ruhaan.bullets.filter((b) => b.x > 0);\n",
    "    \n",
    "    // Ruhaan AI\n",
    "    if (ruhaan.attackCooldown === 0) {\n",
    "        ruhaan.bullets.push(new Bullet(ruhaan.x, ruhaan.y + ruhaan.height / 2, -5, true));\n",
    "        ruhaan.attackCooldown = 60; // Fire rate cooldown\n",
    "    } else {\n",
    "        ruhaan.attackCooldown--;\n",
    "    }\n",
    "    \n",
    "    // Ruhaan movement\n",
    "    ruhaan.x += ruhaan.dx;\n",
    "    if (ruhaan.x <= canvas.width / 2 || ruhaan.x + ruhaan.width >= canvas.width) {\n",
    "        ruhaan.dx *= -1;\n",
    "    }\n",
    "    \n",
    "    // Health check\n",
    "    aarav.bullets.forEach((b) => {\n",
    "        if (b.x > ruhaan.x && b.x < ruhaan.x + ruhaan.width && b.y > ruhaan.y && b.y < ruhaan.y + ruhaan.height) {\n",
    "            ruhaan.health -= 10;\n",
    "            aarav.bullets.splice(aarav.bullets.indexOf(b), 1);\n",
    "        }\n",
    "    });\n",
    "    \n",
    "    ruhaan.bullets.forEach((b) => {\n",
    "        if (b.x > aarav.x && b.x < aarav.x + aarav.width && b.y > aarav.y && b.y < aarav.y + aarav.height) {\n",
    "            aarav.health -= 20;\n",
    "            ruhaan.bullets.splice(ruhaan.bullets.indexOf(b), 1);\n",
    "        }\n",
    "    });\n",
    "    \n",
    "    draw();\n",
    "}\n",
    "\n",
    "function draw() {\n",
    "    ctx.clearRect(0, 0, canvas.width, canvas.height);\n",
    "    \n",
    "    // Draw players\n",
    "    ctx.drawImage(aaravImg, aarav.x, aarav.y, aarav.width, aarav.height);\n",
    "    ctx.drawImage(ruhaanImg, ruhaan.x, ruhaan.y, ruhaan.width, ruhaan.height);\n",
    "    \n",
    "    // Draw bullets\n",
    "    aarav.bullets.forEach((b) => b.draw());\n",
    "    ruhaan.bullets.forEach((b) => b.draw());\n",
    "    \n",
    "    // Health bars\n",
    "    ctx.fillStyle = \"red\";\n",
    "    ctx.fillRect(50, 20, aarav.health * 2, 10);\n",
    "    ctx.fillStyle = \"blue\";\n",
    "    ctx.fillRect(canvas.width - 310, 20, ruhaan.health, 10);\n",
    "    \n",
    "    // Game Over\n",
    "    if (aarav.health <= 0) {\n",
    "        ctx.fillStyle = \"black\";\n",
    "        ctx.font = \"30px Arial\";\n",
    "        ctx.fillText(\"Game Over! Ruhaan Wins!\", canvas.width / 2 - 100, canvas.height / 2);\n",
    "    } else if (ruhaan.health <= 0) {\n",
    "        ctx.fillStyle = \"black\";\n",
    "        ctx.font = \"30px Arial\";\n",
    "        ctx.fillText(\"Victory! Aarav Wins!\", canvas.width / 2 - 100, canvas.height / 2);\n",
    "    }\n",
    "}\n",
    "\n",
    "function gameLoop() {\n",
    "    update();\n",
    "    requestAnimationFrame(gameLoop);\n",
    "}\n",
    "gameLoop();\n"
   ]
  }
 ],
 "metadata": {
  "kernelspec": {
   "display_name": "venv",
   "language": "python",
   "name": "python3"
  },
  "language_info": {
   "codemirror_mode": {
    "name": "ipython",
    "version": 3
   },
   "file_extension": ".py",
   "mimetype": "text/x-python",
   "name": "python",
   "nbconvert_exporter": "python",
   "pygments_lexer": "ipython3",
   "version": "3.9.6"
  }
 },
 "nbformat": 4,
 "nbformat_minor": 2
}
