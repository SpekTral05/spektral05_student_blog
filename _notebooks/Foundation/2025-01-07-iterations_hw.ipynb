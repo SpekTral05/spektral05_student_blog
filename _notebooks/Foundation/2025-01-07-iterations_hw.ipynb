{
 "cells": [
  {
   "cell_type": "code",
   "execution_count": null,
   "metadata": {},
   "outputs": [],
   "source": [
    "---\n",
    "comments: True\n",
    "layout: post\n",
    "title: Iteration Homework\n",
    "description: Iterations HW\n",
    "permalink: /csse/javascript/fundamentals/iteration/hw\n",
    "categories: [CSSE JavaScript Fundamentals]\n",
    "author: Andrew Ge, Ishan Shrivastava, Pratheep Natarajan, and Ruhaan Bansal\n",
    "---  "
   ]
  },
  {
   "cell_type": "code",
   "execution_count": null,
   "metadata": {
    "vscode": {
     "languageId": "html"
    }
   },
   "outputs": [],
   "source": [
    "<!DOCTYPE html>\n",
    "<html lang=\"en\">\n",
    "<head>\n",
    "    <meta charset=\"UTF-8\">\n",
    "    <meta name=\"viewport\" content=\"width=device-width, initial-scale=1.0\">\n",
    "    <title>My Game</title>\n",
    "    <style>\n",
    "        canvas {\n",
    "            border: 1px solid black;\n",
    "        }\n",
    "    </style>\n",
    "</head>\n",
    "<body>\n",
    "    <canvas id=\"gameCanvas\"></canvas>\n",
    "    <script src=\"yourGameScript.js\"></script>\n",
    "</body>\n",
    "</html>"
   ]
  },
  {
   "cell_type": "markdown",
   "metadata": {},
   "source": [
    "### Exercise 1: Multiplication Table\n",
    "##### Write a JavaScript program to print the multiplication table for a given number."
   ]
  },
  {
   "cell_type": "code",
   "execution_count": 2,
   "metadata": {
    "vscode": {
     "languageId": "javascript"
    }
   },
   "outputs": [
    {
     "data": {
      "application/javascript": "function multiplicationTable(number) { //create the function called multiplicationTable\n    for (let i = 1; i <= 10; i++) {//scroll through 10 values\n        console.log(`${number} x ${i} = ${number * i}`);//write the number times the current loop value = product\n    }\n}\nmultiplicationTable(3);\n",
      "text/plain": [
       "<IPython.core.display.Javascript object>"
      ]
     },
     "metadata": {},
     "output_type": "display_data"
    }
   ],
   "source": [
    "%%js\n",
    "function multiplicationTable(number) { //create the function called multiplicationTable\n",
    "    for (let i = 1; i <= 10; i++) {//scroll through 10 values\n",
    "        console.log(`${number} x ${i} = ${number * i}`);//write the number times the current loop value = product\n",
    "    }\n",
    "}\n",
    "multiplicationTable(3);"
   ]
  },
  {
   "cell_type": "markdown",
   "metadata": {},
   "source": [
    "##### Example:\n",
    "##### Input: 3\n",
    "##### Output:\n",
    "##### 3 x 1 = 3\n",
    "##### 3 x 2 = 6\n",
    "##### ...\n",
    "##### 3 x 10 = 30"
   ]
  },
  {
   "cell_type": "markdown",
   "metadata": {},
   "source": [
    "### Exercise 2: Nested Loops\n",
    "##### Write a JavaScript program using nested loops to generate the following pattern:"
   ]
  },
  {
   "cell_type": "code",
   "execution_count": null,
   "metadata": {
    "vscode": {
     "languageId": "javascript"
    }
   },
   "outputs": [
    {
     "data": {
      "application/javascript": "for (let i = 1; i <= 5; i++) {//initiate the loop\n    let zeroes = \"\";//create an empty value of the zeroes\n    for (let j = 1; j <= i; j++) {//create the nested loop \n        zeroes += \"0\";//add a zero to the zeroes term\n    }\n    console.log(zeroes);//print the amount of zeros every iteration\n}\n",
      "text/plain": [
       "<IPython.core.display.Javascript object>"
      ]
     },
     "metadata": {},
     "output_type": "display_data"
    }
   ],
   "source": [
    "%%js \n",
    "for (let i = 1; i <= 5; i++) {//initiate the loop\n",
    "    let zeroes = \"\";//create an empty value of the zeroes\n",
    "    for (let j = 1; j <= i; j++) {//create the nested loop \n",
    "        zeroes += \"0\";//add a zero to the zeroes term\n",
    "    }\n",
    "    console.log(zeroes);//print the amount of zeros every iteration\n",
    "}\n",
    "//since the first loop is until i<=5, it will print 5 zeroes before breaking"
   ]
  },
  {
   "cell_type": "markdown",
   "metadata": {},
   "source": [
    "##### Output:\n",
    "##### 0\n",
    "##### 00\n",
    "##### 000\n",
    "##### 0000\n",
    "##### 00000"
   ]
  },
  {
   "cell_type": "markdown",
   "metadata": {},
   "source": [
    "### Challenge Exercise: Prime Numbers\n",
    "##### Write a JavaScript program to print all prime numbers between 1 and 50."
   ]
  },
  {
   "cell_type": "markdown",
   "metadata": {},
   "source": [
    "# End of Homework"
   ]
  },
  {
   "cell_type": "code",
   "execution_count": null,
   "metadata": {
    "vscode": {
     "languageId": "javascript"
    }
   },
   "outputs": [],
   "source": [
    "%%js\n",
    "// Setup Canvas\n",
    "const canvas = document.getElementById('gameCanvas');\n",
    "const ctx = canvas.getContext('2d');\n",
    "canvas.width = 800;\n",
    "canvas.height = 600;\n",
    "\n",
    "// Game objects\n",
    "let Aarav = {\n",
    "    x: 400,\n",
    "    y: 500,\n",
    "    width: 50,\n",
    "    height: 50,\n",
    "    speed: 5,\n",
    "    jumpStrength: -10,\n",
    "    velocityY: 0,\n",
    "    gravity: 0.5,\n",
    "    health: 100,\n",
    "    isJumping: false\n",
    "};\n",
    "\n",
    "let Ruhaan = {\n",
    "    x: 100,\n",
    "    y: 400,\n",
    "    width: 100,\n",
    "    height: 150,\n",
    "    health: 500,\n",
    "    attackCooldown: 0,\n",
    "    attacks: [\n",
    "        { name: 'ballShoot', cooldown: 120 },\n",
    "        { name: 'jump', cooldown: 180 }\n",
    "    ],\n",
    "    currentAttack: 0,\n",
    "    velocityY: 0,\n",
    "    gravity: 0.3,\n",
    "    isJumping: false\n",
    "};\n",
    "\n",
    "let platforms = [\n",
    "    { x: 0, y: 550, width: 800, height: 50 },\n",
    "    { x: 200, y: 400, width: 200, height: 20 },\n",
    "    { x: 500, y: 300, width: 150, height: 20 }\n",
    "];\n",
    "\n",
    "let projectiles = [];\n",
    "\n",
    "// Handle Keyboard Input\n",
    "let keys = {};\n",
    "\n",
    "document.addEventListener('keydown', (e) => keys[e.key] = true);\n",
    "document.addEventListener('keyup', (e) => keys[e.key] = false);\n",
    "\n",
    "function moveCharacter() {\n",
    "    // Move left\n",
    "    if (keys['ArrowLeft'] && Aarav.x > 0) Aarav.x -= Aarav.speed;\n",
    "    // Move right\n",
    "    if (keys['ArrowRight'] && Aarav.x + Aarav.width < canvas.width) Aarav.x += Aarav.speed;\n",
    "    // Jump\n",
    "    if (keys['ArrowUp'] && !Aarav.isJumping) {\n",
    "        Aarav.velocityY = Aarav.jumpStrength;\n",
    "        Aarav.isJumping = true;\n",
    "    }\n",
    "    \n",
    "    // Apply gravity and jump physics\n",
    "    Aarav.velocityY += Aarav.gravity;\n",
    "    Aarav.y += Aarav.velocityY;\n",
    "    if (Aarav.y + Aarav.height > canvas.height) {\n",
    "        Aarav.y = canvas.height - Aarav.height;\n",
    "        Aarav.velocityY = 0;\n",
    "        Aarav.isJumping = false;\n",
    "    }\n",
    "\n",
    "    // Check for platform collision\n",
    "    for (let platform of platforms) {\n",
    "        if (Aarav.y + Aarav.height > platform.y && \n",
    "            Aarav.y < platform.y + platform.height &&\n",
    "            Aarav.x + Aarav.width > platform.x &&\n",
    "            Aarav.x < platform.x + platform.width) {\n",
    "            Aarav.y = platform.y - Aarav.height;\n",
    "            Aarav.velocityY = 0;\n",
    "            Aarav.isJumping = false;\n",
    "        }\n",
    "    }\n",
    "}\n",
    "\n",
    "function moveRuhaan() {\n",
    "    // Simple AI: move back and forth, jump occasionally\n",
    "    if (Ruhaan.x + Ruhaan.width < canvas.width && Math.random() > 0.5) {\n",
    "        Ruhaan.x += 2;\n",
    "    } else if (Ruhaan.x > 0) {\n",
    "        Ruhaan.x -= 2;\n",
    "    }\n",
    "\n",
    "    Ruhaan.attackCooldown--;\n",
    "    if (Ruhaan.attackCooldown <= 0) {\n",
    "        let attack = Ruhaan.attacks[Ruhaan.currentAttack];\n",
    "        if (attack.name === 'ballShoot') {\n",
    "            projectiles.push({\n",
    "                x: Ruhaan.x + Ruhaan.width / 2,\n",
    "                y: Ruhaan.y + Ruhaan.height / 2,\n",
    "                width: 10,\n",
    "                height: 10,\n",
    "                speed: 3,\n",
    "                direction: Aarav.x < Ruhaan.x ? -1 : 1\n",
    "            });\n",
    "        } else if (attack.name === 'jump' && !Ruhaan.isJumping) {\n",
    "            Ruhaan.velocityY = -15;\n",
    "            Ruhaan.isJumping = true;\n",
    "        }\n",
    "        Ruhaan.attackCooldown = attack.cooldown;\n",
    "        Ruhaan.currentAttack = (Ruhaan.currentAttack + 1) % Ruhaan.attacks.length;\n",
    "    }\n",
    "\n",
    "    // Apply gravity for Ruhaan\n",
    "    Ruhaan.velocityY += Ruhaan.gravity;\n",
    "    Ruhaan.y += Ruhaan.velocityY;\n",
    "    if (Ruhaan.y + Ruhaan.height > canvas.height) {\n",
    "        Ruhaan.y = canvas.height - Ruhaan.height;\n",
    "        Ruhaan.velocityY = 0;\n",
    "        Ruhaan.isJumping = false;\n",
    "    }\n",
    "}\n",
    "\n",
    "function drawHealthBar(character, x, y) {\n",
    "    ctx.fillStyle = \"red\";\n",
    "    ctx.fillRect(x, y, character.health, 10);\n",
    "    ctx.strokeRect(x, y, 100, 10);\n",
    "}\n",
    "\n",
    "function draw() {\n",
    "    ctx.clearRect(0, 0, canvas.width, canvas.height);\n",
    "\n",
    "    // Draw platforms\n",
    "    ctx.fillStyle = \"brown\";\n",
    "    platforms.forEach(platform => ctx.fillRect(platform.x, platform.y, platform.width, platform.height));\n",
    "\n",
    "    // Draw Aarav\n",
    "    ctx.fillStyle = \"blue\";\n",
    "    ctx.fillRect(Aarav.x, Aarav.y, Aarav.width, Aarav.height);\n",
    "    drawHealthBar(Aarav, Aarav.x, Aarav.y - 10);\n",
    "\n",
    "    // Draw Ruhaan\n",
    "    ctx.fillStyle = \"green\";\n",
    "    ctx.fillRect(Ruhaan.x, Ruhaan.y, Ruhaan.width, Ruhaan.height);\n",
    "    drawHealthBar(Ruhaan, Ruhaan.x, Ruhaan.y - 10);\n",
    "\n",
    "    // Draw projectiles\n",
    "    ctx.fillStyle = \"black\";\n",
    "    projectiles.forEach(projectile => {\n",
    "        ctx.fillRect(projectile.x, projectile.y, projectile.width, projectile.height);\n",
    "        projectile.x += projectile.speed * projectile.direction;\n",
    "    });\n",
    "\n",
    "    // Remove projectiles that are off-screen\n",
    "    projectiles = projectiles.filter(p => p.x > 0 && p.x < canvas.width);\n",
    "}\n",
    "\n",
    "function update() {\n",
    "    moveCharacter();\n",
    "    moveRuhaan();\n",
    "    draw();\n",
    "    requestAnimationFrame(update);\n",
    "}\n",
    "\n",
    "// Start game loop\n",
    "update();"
   ]
  }
 ],
 "metadata": {
  "kernelspec": {
   "display_name": "venv",
   "language": "python",
   "name": "python3"
  },
  "language_info": {
   "codemirror_mode": {
    "name": "ipython",
    "version": 3
   },
   "file_extension": ".py",
   "mimetype": "text/x-python",
   "name": "python",
   "nbconvert_exporter": "python",
   "pygments_lexer": "ipython3",
   "version": "3.9.6"
  }
 },
 "nbformat": 4,
 "nbformat_minor": 2
}
