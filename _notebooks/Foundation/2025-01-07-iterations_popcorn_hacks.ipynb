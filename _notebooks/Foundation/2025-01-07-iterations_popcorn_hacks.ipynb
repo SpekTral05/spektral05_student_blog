{
 "cells": [
  {
   "cell_type": "code",
   "execution_count": null,
   "metadata": {},
   "outputs": [],
   "source": [
    "---\n",
    "comments: True\n",
    "layout: post\n",
    "title: Iteration Popcorn Hacks\n",
    "description: Iterations Popcorn Hacks\n",
    "permalink: /csse/javascript/fundamentals/iteration/Popcorn_Hacks\n",
    "categories: [CSSE JavaScript Fundamentals]\n",
    "author: Andrew Ge, Ishan Shrivastava, Pratheep Natarajan, and Ruhaan Bansal\n",
    "---  "
   ]
  },
  {
   "cell_type": "markdown",
   "metadata": {
    "vscode": {
     "languageId": "plaintext"
    }
   },
   "source": [
    "# Popcorn Hacks on Iterations in JavaScript"
   ]
  },
  {
   "cell_type": "markdown",
   "metadata": {},
   "source": [
    "##### Instructions:\n",
    "##### Complete the exercises below in JavaScript.\n",
    "##### You can run and test your code in a JavaScript environment."
   ]
  },
  {
   "cell_type": "markdown",
   "metadata": {},
   "source": [
    "### Exercise 1: Counting with a For Loop\n",
    "##### Write a JavaScript for loop that prints all numbers from 1 to 10."
   ]
  },
  {
   "cell_type": "markdown",
   "metadata": {},
   "source": [
    "##### Example:\n",
    "##### Output:\n",
    "##### 1\n",
    "##### 2\n",
    "##### 3\n",
    "##### ...\n",
    "##### 9 \n",
    "##### 10 "
   ]
  },
  {
   "cell_type": "code",
   "execution_count": null,
   "metadata": {
    "vscode": {
     "languageId": "javascript"
    }
   },
   "outputs": [
    {
     "data": {
      "application/javascript": "for (let i=1;i<11;i++)\n{\n    console.log(i);\n}\n",
      "text/plain": [
       "<IPython.core.display.Javascript object>"
      ]
     },
     "metadata": {},
     "output_type": "display_data"
    }
   ],
   "source": [
    "%%js\n",
    "for (let i=1;i<11;i++)\n",
    "{\n",
    "    console.log(i);\n",
    "}//instead of having a list, i just made i cycle through the numbers 1-10 and printing the value of i"
   ]
  },
  {
   "cell_type": "markdown",
   "metadata": {},
   "source": [
    "### Exercise 2: Sum of Numbers\n",
    "##### Write a function in JavaScript to calculate the sum of all numbers from 1 to n using a loop."
   ]
  },
  {
   "cell_type": "markdown",
   "metadata": {},
   "source": [
    "##### Example:\n",
    "##### Input: 5\n",
    "##### Output: 15 (because 1 + 2 + 3 + 4 + 5 = 15)\n"
   ]
  },
  {
   "cell_type": "code",
   "execution_count": null,
   "metadata": {
    "vscode": {
     "languageId": "javascript"
    }
   },
   "outputs": [
    {
     "data": {
      "application/javascript": "let list = [1,2,3,4,5,6,7,8,9,10];\nlet sum =0;\nfor (let i=0;i<list.length;i++)\n{\n    sum = sum+list[i];\n}\nconsole.log(sum);\n",
      "text/plain": [
       "<IPython.core.display.Javascript object>"
      ]
     },
     "metadata": {},
     "output_type": "display_data"
    }
   ],
   "source": [
    "%%js\n",
    "let list = [1,2,3,4,5,6,7,8,9,10];//create the list\n",
    "let sum =0;//sum set to 0\n",
    "for (let i=0;i<list.length;i++)//iterate through the list\n",
    "{\n",
    "    sum = sum+list[i];//add the value of the list's current position to the sum\n",
    "}\n",
    "console.log(sum);//print the sum"
   ]
  },
  {
   "cell_type": "markdown",
   "metadata": {},
   "source": [
    "### Exercise 3: Looping through Arrays\n",
    "##### Write a JavaScript program to iterate through an array of names and print each name."
   ]
  },
  {
   "cell_type": "code",
   "execution_count": null,
   "metadata": {
    "vscode": {
     "languageId": "javascript"
    }
   },
   "outputs": [
    {
     "data": {
      "application/javascript": "let list = [\"Ruhaan\",\"Ishan\",\"Andrew\",\"Pratheep\"];\nfor (let i=0;i<list.length;i++)\n{\n    console.log(list[i]);\n}\n",
      "text/plain": [
       "<IPython.core.display.Javascript object>"
      ]
     },
     "metadata": {},
     "output_type": "display_data"
    }
   ],
   "source": [
    "%%js\n",
    "let list = [\"Ruhaan\",\"Ishan\",\"Andrew\",\"Pratheep\"];//create list\n",
    "for (let i=0;i<list.length;i++)//iterate through the list\n",
    "{\n",
    "    console.log(list[i]);//print each name value\n",
    "}"
   ]
  },
  {
   "cell_type": "code",
   "execution_count": null,
   "metadata": {
    "vscode": {
     "languageId": "javascript"
    }
   },
   "outputs": [],
   "source": [
    "%%js\n",
    "const canvas = document.getElementById(\"gameCanvas\");\n",
    "const ctx = canvas.getContext(\"2d\");\n",
    "\n",
    "// Game variables\n",
    "let player = {\n",
    "    x: 100,\n",
    "    y: 300,\n",
    "    width: 50,\n",
    "    height: 50,\n",
    "    speed: 5,\n",
    "    jumpPower: 10,\n",
    "    velocityY: 0,\n",
    "    gravity: 0.5,\n",
    "    health: 100,\n",
    "    bullets: [],\n",
    "    onGround: false\n",
    "};\n",
    "\n",
    "let boss = {\n",
    "    x: 600,\n",
    "    y: 250,\n",
    "    width: 100,\n",
    "    height: 100,\n",
    "    health: 300,\n",
    "    speed: 2,\n",
    "    velocityY: 0,\n",
    "    gravity: 0.5,\n",
    "    attacking: false\n",
    "};\n",
    "\n",
    "let bossAttacks = [\"groundPound\", \"dash\", \"bulletReflect\"];\n",
    "let keys = {};\n",
    "\n",
    "document.addEventListener(\"keydown\", (event) => keys[event.code] = true);\n",
    "document.addEventListener(\"keyup\", (event) => keys[event.code] = false);\n",
    "\n",
    "document.addEventListener(\"keydown\", (event) => {\n",
    "    if (event.code === \"Space\" && player.onGround) {\n",
    "        player.velocityY = -player.jumpPower;\n",
    "        player.onGround = false;\n",
    "    }\n",
    "    if (event.code === \"KeyX\") {\n",
    "        player.bullets.push({ x: player.x + player.width, y: player.y + player.height / 2, speed: 7 });\n",
    "    }\n",
    "});\n",
    "\n",
    "function update() {\n",
    "    // Player movement\n",
    "    if (keys[\"ArrowLeft\"]) player.x -= player.speed;\n",
    "    if (keys[\"ArrowRight\"]) player.x += player.speed;\n",
    "    \n",
    "    // Apply gravity\n",
    "    player.velocityY += player.gravity;\n",
    "    player.y += player.velocityY;\n",
    "    if (player.y >= 300) {\n",
    "        player.y = 300;\n",
    "        player.onGround = true;\n",
    "        player.velocityY = 0;\n",
    "    }\n",
    "    \n",
    "    // Update bullets\n",
    "    player.bullets.forEach((bullet, index) => {\n",
    "        bullet.x += bullet.speed;\n",
    "        if (bullet.x > canvas.width) player.bullets.splice(index, 1);\n",
    "    });\n",
    "    \n",
    "    // Boss movement and attack logic\n",
    "    boss.velocityY += boss.gravity;\n",
    "    boss.y += boss.velocityY;\n",
    "    if (boss.y >= 250) {\n",
    "        boss.y = 250;\n",
    "        boss.velocityY = 0;\n",
    "    }\n",
    "    boss.x += boss.speed;\n",
    "    if (boss.x <= 500 || boss.x >= 700) boss.speed *= -1;\n",
    "    \n",
    "    if (!boss.attacking && Math.random() < 0.01) {\n",
    "        boss.attacking = true;\n",
    "        let attack = bossAttacks[Math.floor(Math.random() * bossAttacks.length)];\n",
    "        if (attack === \"groundPound\") groundPound();\n",
    "        else if (attack === \"dash\") dash();\n",
    "        else if (attack === \"bulletReflect\") bulletReflect();\n",
    "    }\n",
    "}\n",
    "\n",
    "function groundPound() {\n",
    "    console.log(\"Boss uses Ground Pound!\");\n",
    "    setTimeout(() => boss.attacking = false, 1000);\n",
    "}\n",
    "\n",
    "function dash() {\n",
    "    console.log(\"Boss dashes!\");\n",
    "    boss.speed *= 2;\n",
    "    setTimeout(() => {\n",
    "        boss.speed /= 2;\n",
    "        boss.attacking = false;\n",
    "    }, 1000);\n",
    "}\n",
    "\n",
    "function bulletReflect() {\n",
    "    console.log(\"Boss reflects bullets!\");\n",
    "    player.bullets.forEach((bullet) => bullet.speed = -bullet.speed);\n",
    "    setTimeout(() => boss.attacking = false, 1000);\n",
    "}\n",
    "\n",
    "function draw() {\n",
    "    ctx.clearRect(0, 0, canvas.width, canvas.height);\n",
    "    \n",
    "    // Draw player\n",
    "    ctx.fillStyle = \"blue\";\n",
    "    ctx.fillRect(player.x, player.y, player.width, player.height);\n",
    "    \n",
    "    // Draw boss\n",
    "    ctx.fillStyle = \"red\";\n",
    "    ctx.fillRect(boss.x, boss.y, boss.width, boss.height);\n",
    "    \n",
    "    // Draw bullets\n",
    "    ctx.fillStyle = \"yellow\";\n",
    "    player.bullets.forEach((bullet) => ctx.fillRect(bullet.x, bullet.y, 5, 5));\n",
    "}\n",
    "\n",
    "function gameLoop() {\n",
    "    update();\n",
    "    draw();\n",
    "    requestAnimationFrame(gameLoop);\n",
    "}\n",
    "\n",
    "gameLoop();\n"
   ]
  }
 ],
 "metadata": {
  "kernelspec": {
   "display_name": "venv",
   "language": "python",
   "name": "python3"
  },
  "language_info": {
   "codemirror_mode": {
    "name": "ipython",
    "version": 3
   },
   "file_extension": ".py",
   "mimetype": "text/x-python",
   "name": "python",
   "nbconvert_exporter": "python",
   "pygments_lexer": "ipython3",
   "version": "3.9.6"
  }
 },
 "nbformat": 4,
 "nbformat_minor": 2
}
