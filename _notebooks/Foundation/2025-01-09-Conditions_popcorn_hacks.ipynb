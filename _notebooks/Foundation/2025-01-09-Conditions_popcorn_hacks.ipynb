{
 "cells": [
  {
   "cell_type": "raw",
   "metadata": {
    "vscode": {
     "languageId": "raw"
    }
   },
   "source": [
    "---\n",
    "layout: post\n",
    "title: Popcorn Hacks\n",
    "description: Popcorn hacks for conditions!\n",
    "categories: [CSSE JavaScript Fundamentals]\n",
    "courses: { csse: {week: 0}, csp: {week: 0 }, csa: {week: 0}}\n",
    "type: collab\n",
    "permalink: /csse/javascript/fundamentals/conditions_hacks\n",
    "author: Yasna Ahmadi, Katherine Law, Yuna Lee, Namira Sharif\n",
    "toc: true\n",
    "---"
   ]
  },
  {
   "cell_type": "markdown",
   "metadata": {},
   "source": [
    "# Popcorn Hacks!\n",
    "You're at the mall with your friends, and head into the Build-A-Bear store. Use conditionals to decide what kind of bear you want with different accessories! The employee comes up to you and explains the steps. She states...\n",
    "\n",
    "\"Choose Me: Pick that special furry friend — from a silly superhero to a sporty mascot and a cheerleading bunny to a snuggly teddy bear.\n",
    "Hear Me: Add a special sound effect to your furry friend.\n",
    "Stuff Me: Customize your creation with sounds, scents, stuffing and, of course, our iconic special heart that holds your love and wishes.\n",
    "Hug Me: Give your furry friend its first hug to make sure it’s stuffed just right.\n",
    "Dress Me: Turn up the fun with outfits and extras!\n",
    "Name Me: It’s official once your creation has a birth certificate of its bear-y own!\"\n",
    "\n",
    "### Hack 1: Simple If-Statement\n",
    "Create a variable based on what kind of stuffed animal you want."
   ]
  },
  {
   "cell_type": "code",
   "execution_count": null,
   "metadata": {
    "vscode": {
     "languageId": "javascript"
    }
   },
   "outputs": [
    {
     "data": {
      "application/javascript": "let bearType = \"_____\"; //Choose what kind of bear you want: Teddy or Unicorn (Example: let bearType = \"Teddyy\")\n\nif (bearType === \"____\") { //Put the same bear type from above into this line\n    console.log(\"You picked a snuggly ____ bear!\");\n}\n",
      "text/plain": [
       "<IPython.core.display.Javascript object>"
      ]
     },
     "metadata": {},
     "output_type": "display_data"
    }
   ],
   "source": [
    "%%js\n",
    "let criminal = true; \n",
    "\n",
    "if (criminal === true) { \n",
    "    console.log(\"You join Ruhaan in jail. \");\n",
    "}"
   ]
  },
  {
   "cell_type": "markdown",
   "metadata": {},
   "source": [
    "### Hack 2: If-Else Statement\n",
    "Add a sound to the bear based on the type chosen."
   ]
  },
  {
   "cell_type": "code",
   "execution_count": null,
   "metadata": {
    "vscode": {
     "languageId": "javascript"
    }
   },
   "outputs": [
    {
     "data": {
      "application/javascript": "let bearType = \"_____\"; //Put the same bear type as before.\n\nif (bearType ===\"Teddy\") {\n    console.log(\"Your Teddy snores...\");\n} else {\n    console.log(\"Your Unicorn neighs loud...\")\n}\n",
      "text/plain": [
       "<IPython.core.display.Javascript object>"
      ]
     },
     "metadata": {},
     "output_type": "display_data"
    }
   ],
   "source": [
    "%%js\n",
    "let bearType = \"snuggly\"; //Put the same bear type as before.\n",
    "\n",
    "if (bearType ===\"Teddy\") {\n",
    "    console.log(\"Your Teddy snores...\");\n",
    "} else {\n",
    "    console.log(\"Your Unicorn neighs loud...\")\n",
    "}"
   ]
  },
  {
   "cell_type": "markdown",
   "metadata": {},
   "source": [
    "### Hack 3: Else-If Statement\n",
    "Choose the stuffing type using an If-Else-If statement"
   ]
  },
  {
   "cell_type": "code",
   "execution_count": null,
   "metadata": {
    "vscode": {
     "languageId": "javascript"
    }
   },
   "outputs": [
    {
     "data": {
      "application/javascript": "let haveMoney = 900000;\n\nif (haveMoney >=1000000) {\n    console.log(\"You purchase the house and start a new life!\");\n} else if (haveMoney <1000000 && haveMoney >=100000) {\n    console.log (\"You rent out an apartment and are happy with a quaint life!\");\n} \nelse {\n    console.log(\"You need to work harder!\")\n}\n",
      "text/plain": [
       "<IPython.core.display.Javascript object>"
      ]
     },
     "metadata": {},
     "output_type": "display_data"
    }
   ],
   "source": [
    "%%js\n",
    "let haveMoney = 1000000;\n",
    "\n",
    "if (haveMoney >=1000000) {\n",
    "    console.log(\"You purchase the house and start a new life!\");\n",
    "} else if (haveMoney <1000000 && haveMoney >=100000) {\n",
    "    console.log (\"You rent out an apartment and are happy with a quaint life!\");\n",
    "} \n",
    "else {\n",
    "    console.log(\"You need to work harder!\")\n",
    "}"
   ]
  },
  {
   "cell_type": "markdown",
   "metadata": {},
   "source": [
    "### Hack 4: Switch Statement\n",
    "Use a switch statement to pick a bear outfit"
   ]
  },
  {
   "cell_type": "code",
   "execution_count": null,
   "metadata": {
    "vscode": {
     "languageId": "javascript"
    }
   },
   "outputs": [
    {
     "data": {
      "application/javascript": "let bearOutfit = \"_____\"; // Choose an outfit: \"Superhero\", \"Cheerleader\", \"Pirate\", \"Princess\"\n\nswitch (bearOutfit) {\n    case \"Superhero\":\n        console.log(\"Your bear is ready to save the day in a Superhero costume!\");\n        break;\n    case \"Cheerleader\":\n        console.log(\"Your bear will cheer with its Cheerleader outfit!\");\n        break;\n    case \"Pirate\":\n        console.log(\"Ahoy! Your bear is ready to sail in a Pirate costume!\");\n        break;\n    default:\n        console.log(\"Your bear is ready for a royal adventure in a Princess outfit!\");\n}\n",
      "text/plain": [
       "<IPython.core.display.Javascript object>"
      ]
     },
     "metadata": {},
     "output_type": "display_data"
    }
   ],
   "source": [
    "%%js\n",
    "let money = 100;\n",
    "\n",
    "switch (money) {\n",
    "    case >=100000:\n",
    "        console.log(\"You buy a yaught and flaunt your wealth.\");\n",
    "        break;\n",
    "    case >=10000:\n",
    "        console.log(\"You buy a rolex and look quite dapper, I must say.\");\n",
    "        break;\n",
    "    case >=1000:\n",
    "        console.log(\"You buy the latest iPhone 23 Extreme Pro Max Ultra Founders' Edition.\");\n",
    "        break;\n",
    "    default:\n",
    "        console.log(\"You're broke and settle for a loaf of bread.\");\n",
    "}\n"
   ]
  },
  {
   "cell_type": "markdown",
   "metadata": {},
   "source": [
    "### Hack 5: Complete Build-A-Bear Experience\n",
    "Combine all conditionals to create new types of bears, stuffings, and outfits in a single code cell!"
   ]
  },
  {
   "cell_type": "code",
   "execution_count": null,
   "metadata": {
    "vscode": {
     "languageId": "javascript"
    }
   },
   "outputs": [
    {
     "data": {
      "application/javascript": "let bearType = \"______\"; //Make a type of bear!\nlet stuffingType = \"______\"; //Choose a type of stuffing!\nlet bearOutfit = \"______\"; //Create your own outfit!\n\n// Step 1: Choose Me\nif (bearType === \"______\") { //Choose a bear type\n    console.log(\"__________________\"); //Create a console message for the specified bear type\n} else if (bearType === \"______\") {\n    console.log(\"__________________\");\n} else {\n    console.log(\"__________________\");\n}\n\n//Repeat these steps. When finished, you should be able to choose your own type of bear, stuffing, and outfit within a single code cell. Be creative and have fun!!!\n// Step 2: Hear Me\nif (bearType === \"______\") {\n    console.log(\"__________________\");\n} else {\n    console.log(\"__________________\");\n}\n\n// Step 3: Stuff Me\nif (stuffingType === \"______\") {\n    console.log(\"__________________\");\n} else if (stuffingType === \"______\") {\n    console.log(\"__________________\");\n} else {\n    console.log(\"__________________\");\n}\n\n// Step 4: Dress Me\nswitch (bearOutfit) {\n    case \"______\":\n        console.log(\"__________________\");\n        break;\n    case \"______\":\n        console.log(\"__________________\");\n        break;\n    case \"______\":\n        console.log(\"__________________\");\n        break;\n    default:\n        console.log(\"__________________\");\n}\n",
      "text/plain": [
       "<IPython.core.display.Javascript object>"
      ]
     },
     "metadata": {},
     "output_type": "display_data"
    }
   ],
   "source": [
    "%%js\n",
    "let classType = \"Spanish\"; \n",
    "let grade = 95;\n",
    "let teacher = \"Donald J Trump\"; \n",
    "let failTest = true;\n",
    "\n",
    "if (classType === \"Spanish\") { \n",
    "    console.log(\"Your grade can't be rounded.\"); \n",
    "} else if (classType === \"Chemistry\" || classType === \"Math\") {\n",
    "    console.log(\"Your grade can be rounded!\");\n",
    "} else {\n",
    "    console.log(\"Ask your teacher if your grade can be rounded.\");\n",
    "}\n",
    "\n",
    "\n",
    "if (grade >=90) {\n",
    "    console.log(\"You have an A in \" + classType);\n",
    "} else if (grade>=80){\n",
    "    console.log(\"You have a B in \" + classType + \". Lock in to get an A!\");\n",
    "} else if (grade>=70){\n",
    "    console.log(\"You're getting disowned...\");\n",
    "}\n",
    "\n",
    "\n",
    "switch (teacher) {\n",
    "    case \"Donald J Trump\":\n",
    "        console.log(\"You're screwed\");\n",
    "    case \"Michelle Lanzi-Sheaman\":\n",
    "        console.log(\"You're screwed.\");\n",
    "        break;\n",
    "    case \"Jim Krenz\":\n",
    "        console.log(\"You got so lucky!\");\n",
    "        break;\n",
    "    default:\n",
    "        console.log(\"Your teacher is average.\");\n",
    "}\n"
   ]
  }
 ],
 "metadata": {
  "kernelspec": {
   "display_name": "venv",
   "language": "python",
   "name": "python3"
  },
  "language_info": {
   "codemirror_mode": {
    "name": "ipython",
    "version": 3
   },
   "file_extension": ".py",
   "mimetype": "text/x-python",
   "name": "python",
   "nbconvert_exporter": "python",
   "pygments_lexer": "ipython3",
   "version": "3.9.6"
  }
 },
 "nbformat": 4,
 "nbformat_minor": 2
}
