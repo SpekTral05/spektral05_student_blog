{
 "cells": [
  {
   "cell_type": "raw",
   "metadata": {
    "vscode": {
     "languageId": "raw"
    }
   },
   "source": [
    "---\n",
    "layout: post\n",
    "title: Variables Popcorn Hax\n",
    "description: Exercises to do mid-lesson, when instructed. Designed to be fairly easy and help you apply a basic understanding of variables you should already have from the lesson.\n",
    "type: collab\n",
    "comments: false\n",
    "categories: [CSSE JavaScript Fundamentals]\n",
    "permalink: /csse/lessons/variables/popcornHax\n",
    "---"
   ]
  },
  {
   "cell_type": "markdown",
   "metadata": {},
   "source": [
    "<h1>Popcorn Hax</h1>\n",
    "\n",
    "To access printed results using console.log, follow this simple set of steps.\n",
    "1: Access the \"Help\" button near the top of your screen (next to to \"Terminal\" and \"Window). It looks something like this on macOS:<br>\n",
    "<img width=\"844\" alt=\"image\" src=\"https://github.com/user-attachments/assets/18465a9b-e7e3-4f9d-8653-3ede47e2dfc6\" />\n",
    "<br>\n",
    "After clicking help, the drop-down menu should have a \"Toggle Developer Tools\" option. Click it, and navigate to the console menu.\n",
    "Then, look for a little O with a line through it. Click this to clear the console.\n",
    "\n",
    "<h2>Lesson 1, Exercise 1:</h2><br>\n",
    "Define a variable \"charHealth\" as an integer value of 100. Then, run a command to print the value and type of charHealth.\n"
   ]
  },
  {
   "cell_type": "code",
   "execution_count": 1,
   "metadata": {
    "vscode": {
     "languageId": "javascript"
    }
   },
   "outputs": [
    {
     "data": {
      "application/javascript": "let charHealth=100;//On this line, define charHealth.\n\nconsole.log(charHealth);//Run the command to print charHealth's value here.\n\nconsole.log(typeof charHealth);//Run the command to check the type of variable here.\n",
      "text/plain": [
       "<IPython.core.display.Javascript object>"
      ]
     },
     "metadata": {},
     "output_type": "display_data"
    }
   ],
   "source": [
    "%%js\n",
    "let charHealth=100;//On this line, define charHealth.\n",
    "\n",
    "console.log(charHealth);//Run the command to print charHealth's value here.\n",
    "\n",
    "console.log(typeof charHealth);//Run the command to check the type of variable here."
   ]
  },
  {
   "cell_type": "markdown",
   "metadata": {},
   "source": [
    "<h2>Exercise 2:</h2><br>\n",
    "Define two variables: \"charHealth\" and \"damage\". Then, combine the two to update charHealth. Make sure they are the same type of variable - otherwise, you will not be able to combine them."
   ]
  },
  {
   "cell_type": "code",
   "execution_count": 2,
   "metadata": {
    "vscode": {
     "languageId": "javascript"
    }
   },
   "outputs": [
    {
     "data": {
      "application/javascript": "//Define variables up here. Make sure they are both number values.\nlet charHealth = 100;\nlet damage = 50;\n\n//Update charHealth after the player has taken damage. The character should lose health relative to damage taken. Print your results.\ncharHealth -= damage;\nconsole.log(\"your character's health is now \" + charHealth);\n",
      "text/plain": [
       "<IPython.core.display.Javascript object>"
      ]
     },
     "metadata": {},
     "output_type": "display_data"
    }
   ],
   "source": [
    "%%js\n",
    "//Define variables up here. Make sure they are both number values.\n",
    "let charHealth = 100;\n",
    "let damage = 50;\n",
    "\n",
    "//Update charHealth after the player has taken damage. The character should lose health relative to damage taken. Print your results.\n",
    "charHealth -= damage;\n",
    "console.log(\"your character's health is now \" + charHealth);"
   ]
  },
  {
   "cell_type": "markdown",
   "metadata": {},
   "source": [
    "<h2>Exercise 3:</h2><br>\n",
    "Create two parts of a message, and store each part as a separate variable. Combine these variables into a new one, finalMessage, and print its results."
   ]
  },
  {
   "cell_type": "code",
   "execution_count": 3,
   "metadata": {
    "vscode": {
     "languageId": "javascript"
    }
   },
   "outputs": [
    {
     "data": {
      "application/javascript": "//Define variables and combine them here\nlet messagePart1 = \"I'm not\"\nlet messagePart2 = \" gay\"\nlet finalMessage = messagePart1+messagePart2\n//Print results here.\nconsole.log(finalMessage); //Insert variable\n",
      "text/plain": [
       "<IPython.core.display.Javascript object>"
      ]
     },
     "metadata": {},
     "output_type": "display_data"
    }
   ],
   "source": [
    "%%js\n",
    "//Define variables and combine them here\n",
    "let messagePart1 = \"I'm not\"\n",
    "let messagePart2 = \" gay\"\n",
    "let finalMessage = messagePart1+messagePart2\n",
    "//Print results here.\n",
    "console.log(finalMessage); //Insert variable"
   ]
  },
  {
   "cell_type": "markdown",
   "metadata": {},
   "source": [
    "<b1>\n",
    "Make sure to end each line with a semicolon (;). \n",
    "<br>Part 2: Using this if conditional, see if you can get the console to output \"You have successfully manipulated these strings! Good Job!\" If you don't get the desired result, try again.\n",
    "</b1>"
   ]
  },
  {
   "cell_type": "code",
   "execution_count": 4,
   "metadata": {
    "vscode": {
     "languageId": "javascript"
    }
   },
   "outputs": [
    {
     "data": {
      "application/javascript": "let m1 = \"Hello, \";\nlet m2 = \"world!\"; //Edit this \n\nif (m1 + m2 == \"Hello, world!\"){\n    console.log(\"You have successfully manipulated these strings! Good Job!\");\n} else {\n    console.log(\"Failed to match strings. Try again.\");\n}\nconsole.log(m1 + m2); //Should say \"Hello, world!\"\n",
      "text/plain": [
       "<IPython.core.display.Javascript object>"
      ]
     },
     "metadata": {},
     "output_type": "display_data"
    }
   ],
   "source": [
    "%%js\n",
    "let m1 = \"Hello, \";\n",
    "let m2 = \"world!\"; //Edit this \n",
    "\n",
    "if (m1 + m2 == \"Hello, world!\"){\n",
    "    console.log(\"You have successfully manipulated these strings! Good Job!\");\n",
    "} else {\n",
    "    console.log(\"Failed to match strings. Try again.\");\n",
    "}\n",
    "console.log(m1 + m2); //Should say \"Hello, world!\""
   ]
  },
  {
   "cell_type": "markdown",
   "metadata": {},
   "source": [
    "Try defining a score variable and a string that displays the player's score. A very basic version of this has been set up for you here, using Math.random() to get a random number."
   ]
  },
  {
   "cell_type": "code",
   "execution_count": 5,
   "metadata": {
    "vscode": {
     "languageId": "javascript"
    }
   },
   "outputs": [
    {
     "data": {
      "application/javascript": "let gambling = Math.round(100 * Math.random()) //Random integer from 0 to 100. Math.round just takes the decimal produced by Math.random and rounds it for you (crazy I know).\nlet gamblingTalk = `${gambling} is the number`//Use graves and ${} to make gamblingTalk contain the random number, along with a message.\n\nconsole.log(gamblingTalk); //Print gamblingTalk.\n",
      "text/plain": [
       "<IPython.core.display.Javascript object>"
      ]
     },
     "metadata": {},
     "output_type": "display_data"
    }
   ],
   "source": [
    "%%js \n",
    "let gambling = Math.round(100 * Math.random()) //Random integer from 0 to 100. Math.round just takes the decimal produced by Math.random and rounds it for you (crazy I know).\n",
    "let gamblingTalk = `${gambling} is the number`//Use graves and ${} to make gamblingTalk contain the random number, along with a message.\n",
    "\n",
    "console.log(gamblingTalk); //Print gamblingTalk."
   ]
  },
  {
   "cell_type": "markdown",
   "metadata": {},
   "source": [
    "Lastly, here's a quick way to learn the difference between =, ==, and ===."
   ]
  },
  {
   "cell_type": "code",
   "execution_count": 26,
   "metadata": {
    "vscode": {
     "languageId": "javascript"
    }
   },
   "outputs": [
    {
     "data": {
      "application/javascript": "let m1 = \"1\"; //Note the data types present in these two variables. This is a string.\nlet m2 = 1; //This is a number.\nconsole.log();\n//Use a loose equality and see what the computer thinks about m1 and m2.\nconsole.log();\n//Use a strict equality and see what the computer says. Why are your results different?\n",
      "text/plain": [
       "<IPython.core.display.Javascript object>"
      ]
     },
     "metadata": {},
     "output_type": "display_data"
    }
   ],
   "source": [
    "%%js\n",
    "let m1 = \"1\"; //Note the data types present in these two variables. This is a string.\n",
    "let m2 = 1; //This is a number.\n",
    "console.log();\n",
    "//Use a loose equality and see what the computer thinks about m1 and m2.\n",
    "console.log();\n",
    "//Use a strict equality and see what the computer says. Why are your results different?"
   ]
  },
  {
   "cell_type": "markdown",
   "metadata": {},
   "source": [
    "<h2>Exercise 4:</h2><br>\n",
    "Here, a Math.random function creates a number from 0 to 1. Using the conditional set up for you and your knowledge of booleans, create a system that checks if the number created is greater than 0.7."
   ]
  },
  {
   "cell_type": "code",
   "execution_count": 6,
   "metadata": {
    "vscode": {
     "languageId": "javascript"
    }
   },
   "outputs": [
    {
     "data": {
      "application/javascript": "let isGreaterThan = false; //What should this be defined as by default?\nlet randomNum = Math.random(); //Makes a random number.\nif (randomNum > 0.7) { //Put something in the parentheses to check if the random number is over 0.7.\n    isGreaterThan = true;\n} \nconsole.log(isGreaterThan); //Output the value of isGreaterThan\n\n//Run this a few times, and see if you get a mix of true and false outputs.\n",
      "text/plain": [
       "<IPython.core.display.Javascript object>"
      ]
     },
     "metadata": {},
     "output_type": "display_data"
    }
   ],
   "source": [
    "%%js\n",
    "let isGreaterThan = false; //What should this be defined as by default?\n",
    "let randomNum = Math.random(); //Makes a random number.\n",
    "if (randomNum > 0.7) { //Put something in the parentheses to check if the random number is over 0.7.\n",
    "    isGreaterThan = true;\n",
    "} \n",
    "console.log(isGreaterThan); //Output the value of isGreaterThan\n",
    "\n",
    "//Run this a few times, and see if you get a mix of true and false outputs."
   ]
  },
  {
   "cell_type": "markdown",
   "metadata": {},
   "source": [
    "<h2>Exercise 5:</h2><br>\n",
    "- Fix this code to correctly output the type of data message1 is.\n",
    "- In code, undefined and null are not used intentionally very often. This exercise is an example on why it is useful: since message1 is not defined, you can check this with console.log(). If this results in an undefined output, you can go change the variable to be correctly defined."
   ]
  },
  {
   "cell_type": "code",
   "execution_count": 7,
   "metadata": {
    "vscode": {
     "languageId": "javascript"
    }
   },
   "outputs": [
    {
     "data": {
      "application/javascript": "//This is a very open-ended exercise. What type of variable to you want message1 to be? Depending on your answer, \n// you will define message1 differently, likely with a different name (like score or isAlive).\nlet message1; //Change this, go nuts.\nconsole.log(message1); //Output the variable.\nconsole.log(typeof message1); //Output its type.\n",
      "text/plain": [
       "<IPython.core.display.Javascript object>"
      ]
     },
     "metadata": {},
     "output_type": "display_data"
    }
   ],
   "source": [
    "%%js\n",
    "//This is a very open-ended exercise. What type of variable to you want message1 to be? Depending on your answer, \n",
    "// you will define message1 differently, likely with a different name (like score or isAlive).\n",
    "let message1; //Change this, go nuts.\n",
    "console.log(message1); //Output the variable.\n",
    "console.log(typeof message1); //Output its type."
   ]
  },
  {
   "cell_type": "markdown",
   "metadata": {},
   "source": [
    "<h2>Exercise 6:</h2><br>\n",
    "Create a bigInt with a value of your choosing. Check to make sure it's a big enough number. The highest number in JS is 9007199254740990, and can be referenced with the property Number.MAX_SAFE_INTEGER."
   ]
  },
  {
   "cell_type": "code",
   "execution_count": 16,
   "metadata": {
    "vscode": {
     "languageId": "javascript"
    }
   },
   "outputs": [
    {
     "data": {
      "application/javascript": "let bigNumber = 9999999999999999999n;//Pick a big number. End it with n to make sure it's a bigInt type of variable.\nlet x = Number.MAX_SAFE_INTEGER;\nif (bigNumber>x)\n{\n    console.log(\"true\"); //Check to make sure your number is big enough (so, bigger than x). You're looking for a \"true\" output.\n}\nelse\n{\n    console.log(\"false\");\n}\nconsole.log(bigNumber); //Big number go brrrrr\n",
      "text/plain": [
       "<IPython.core.display.Javascript object>"
      ]
     },
     "metadata": {},
     "output_type": "display_data"
    }
   ],
   "source": [
    "%%js\n",
    "let bigNumber = 9999999999999999999n;//Pick a big number. End it with n to make sure it's a bigInt type of variable.\n",
    "let x = Number.MAX_SAFE_INTEGER;\n",
    "if (bigNumber>x)\n",
    "{\n",
    "    console.log(\"true\"); //Check to make sure your number is big enough (so, bigger than x). You're looking for a \"true\" output.\n",
    "}\n",
    "else\n",
    "{\n",
    "    console.log(\"false\");\n",
    "}\n",
    "console.log(bigNumber); //Big number go brrrrr"
   ]
  },
  {
   "cell_type": "markdown",
   "metadata": {},
   "source": [
    "<h2>Exercise 7:</h2><br>\n",
    "- Create a \"player\" object with as many properties as you can think of. A minimum of 5 properties and at least 3 different types of variables must be used to complete this exercise.\n",
    "- After this, print 2 of those variables. One has already been done for you, and the other started. Lastly, change the player's health and print it again."
   ]
  },
  {
   "cell_type": "code",
   "execution_count": 21,
   "metadata": {
    "vscode": {
     "languageId": "javascript"
    }
   },
   "outputs": [
    {
     "data": {
      "application/javascript": "//A few variables are included for you already, fill the rest in on your own.\nlet player = {\n    name: \"spektral05\", //Replace with your name/gamertag.\n    health: 50, //commas between every term, except the last one.\n    god: true,\n    damage: 99999999999999999n,\n    gamblingAbility: Math.round(Math.random()*100)\n};\n//Reference your parts here. Add one final console.log() and just print player. See what happens.\nconsole.log(player.name);\nconsole.log(player);\n//Change and reference player's health\nplayer.health = 75;\nconsole.log(\"new health is \" + player.health); //new health \n",
      "text/plain": [
       "<IPython.core.display.Javascript object>"
      ]
     },
     "metadata": {},
     "output_type": "display_data"
    }
   ],
   "source": [
    "%%js\n",
    "//A few variables are included for you already, fill the rest in on your own.\n",
    "let player = {\n",
    "    name: \"spektral05\", //Replace with your name/gamertag.\n",
    "    health: 50, //commas between every term, except the last one.\n",
    "    god: true,\n",
    "    damage: 99999999999999999n,\n",
    "    gamblingAbility: Math.round(Math.random()*100)\n",
    "};\n",
    "//Reference your parts here. Add one final console.log() and just print player. See what happens.\n",
    "console.log(player.name);\n",
    "console.log(player);\n",
    "//Change and reference player's health\n",
    "player.health = 75;\n",
    "console.log(\"new health is \" + player.health); //new health "
   ]
  },
  {
   "cell_type": "markdown",
   "metadata": {},
   "source": [
    "<h2>Exercise 8:</h2><br>\n",
    "Create a \"user\" object with a password variable as a symbol. Other than that, customize the object similarly to the previous exercise (Minimum of 5 variables, minimum of 3 types). There's a nifty little bonus at the bottom of this exercise which shows the power of symbols."
   ]
  },
  {
   "cell_type": "code",
   "execution_count": 23,
   "metadata": {
    "vscode": {
     "languageId": "javascript"
    }
   },
   "outputs": [
    {
     "data": {
      "application/javascript": "const password = Symbol(); //Defines the password symbol. It's okay to leave his empty, as you will assign the symbol a value in the object.\nconst backupPassword = Symbol(); \nlet user ={\n    [password]: \"Thedragonmaster2\", //Assign the symbol a value here. \n    [backupPassword]:  \"advaitd6\",//Assign your backup password a value. Make this the same as your default password.\n    username: \"spektral05\" //Fill in the rest of the object's properties. Replace this username with your own.\n\n};\n//Referencing symbols looks like this:\nconsole.log(user[password]);\n//This outputs the value of \"password\" you assigned earlier.\n",
      "text/plain": [
       "<IPython.core.display.Javascript object>"
      ]
     },
     "metadata": {},
     "output_type": "display_data"
    }
   ],
   "source": [
    "%%js \n",
    "const password = Symbol(); //Defines the password symbol. It's okay to leave his empty, as you will assign the symbol a value in the object.\n",
    "const backupPassword = Symbol(); \n",
    "let user ={\n",
    "    [password]: \"Thedragonmaster2\", //Assign the symbol a value here. \n",
    "    [backupPassword]:  \"advaitd6\",//Assign your backup password a value. Make this the same as your default password.\n",
    "    username: \"spektral05\" //Fill in the rest of the object's properties. Replace this username with your own.\n",
    "\n",
    "};\n",
    "//Referencing symbols looks like this:\n",
    "console.log(user[password]);\n",
    "//This outputs the value of \"password\" you assigned earlier."
   ]
  },
  {
   "cell_type": "markdown",
   "metadata": {},
   "source": [
    "<h2>Lesson 2, Exercise 1:</h2>\n",
    "<b1>\n",
    "btw, classes are thing that you will learn later. I'm not explaining them now jus roll with it\n",
    "</b1>"
   ]
  },
  {
   "cell_type": "markdown",
   "metadata": {},
   "source": [
    "Imagine this: you have a brand-spankin' shiny new game that you made, and you want to keep track of how many players you have. Using context clues and my helpful comments, fill in the blanks."
   ]
  },
  {
   "cell_type": "markdown",
   "metadata": {},
   "source": [
    "Next, try and see if you can make the player number increase."
   ]
  },
  {
   "cell_type": "code",
   "execution_count": 35,
   "metadata": {
    "vscode": {
     "languageId": "javascript"
    }
   },
   "outputs": [
    {
     "data": {
      "application/javascript": "let players = 0;\nclass Player {\n  constructor() {\n    this.ran = false;\n  }\n  createPlayer(){\n    if(this.ran === false){\n      players++;\n      this.ran = true;\n    }\n    else{\n      console.log('You have already created this player!!')\n    }\n  }\n}\nconst player1 = new Player(\"RedIsSus\")\nconst player2 = new Player(\"Jimmy\")\nplayer1.createPlayer();\nplayer2.createPlayer();\n// I wonder if making new players would increase the player count\nconsole.log(players)\n",
      "text/plain": [
       "<IPython.core.display.Javascript object>"
      ]
     },
     "metadata": {},
     "output_type": "display_data"
    }
   ],
   "source": [
    "%%js\n",
    "let players = 0;\n",
    "class Player {\n",
    "  constructor() {\n",
    "    this.ran = false;\n",
    "  }\n",
    "  createPlayer(){\n",
    "    if(this.ran === false){\n",
    "      players++;\n",
    "      this.ran = true;\n",
    "    }\n",
    "    else{\n",
    "      console.log('You have already created this player!!')\n",
    "    }\n",
    "  }\n",
    "}\n",
    "const player1 = new Player(\"RedIsSus\")\n",
    "const player2 = new Player(\"Jimmy\")\n",
    "player1.createPlayer();\n",
    "player2.createPlayer();\n",
    "// I wonder if making new players would increase the player count\n",
    "console.log(players)"
   ]
  },
  {
   "cell_type": "markdown",
   "metadata": {},
   "source": [
    "<h2>Exercise Dos</h2>"
   ]
  },
  {
   "cell_type": "code",
   "execution_count": null,
   "metadata": {
    "vscode": {
     "languageId": "javascript"
    }
   },
   "outputs": [],
   "source": [
    "%%js\n",
    "class Car {\n",
    "    constructor(color, model) {\n",
    "        this.color = color;    // Instance variable\n",
    "        this.____ = _____; //Set up another instanced variable\n",
    "    }\n",
    "}\n",
    "\n",
    "const car1 = new Car(\"Red \", \"2006 Nissan Murano\");\n",
    "const car2 = new Car(\"Blue \", \"2019 Toyota Corolla\");\n",
    "\n",
    "console.log(car1.color + car1._____);  // Prints car colors and models. Make sure to reference the instanced variable here.\n",
    "console.log(car2.color + car2._____);  \n",
    "\n",
    "car1.color = \"Yellow \";    // Only changes car1.\n",
    "console.log(car1.color + car1._____);  // Logs changes.\n",
    "console.log(car2.color + car2._____);  // No change from earlier."
   ]
  }
 ],
 "metadata": {
  "kernelspec": {
   "display_name": "venv",
   "language": "python",
   "name": "python3"
  },
  "language_info": {
   "codemirror_mode": {
    "name": "ipython",
    "version": 3
   },
   "file_extension": ".py",
   "mimetype": "text/x-python",
   "name": "python",
   "nbconvert_exporter": "python",
   "pygments_lexer": "ipython3",
   "version": "3.9.6"
  }
 },
 "nbformat": 4,
 "nbformat_minor": 2
}
