{
 "cells": [
  {
   "cell_type": "code",
   "execution_count": null,
   "metadata": {
    "vscode": {
     "languageId": "javascript"
    }
   },
   "outputs": [],
   "source": [
    "%%js\n",
    "let list = [1,2,3,4,5,6,7,8,9,10];\n",
    "\n",
    "for (let i=0;i<10;i++)\n",
    "{\n",
    "    console.log(list[i])\n",
    "}"
   ]
  },
  {
   "cell_type": "code",
   "execution_count": null,
   "metadata": {
    "vscode": {
     "languageId": "javascript"
    }
   },
   "outputs": [],
   "source": [
    "%%js \n",
    "const names = [\"Gyatt\", \"Baddie\", \"Goonie\", \"Costco Guys\"];\n",
    "for (let i = 0; i < names.length; i++) {\n",
    "    console.log(names[i]);\n",
    "}"
   ]
  },
  {
   "cell_type": "code",
   "execution_count": null,
   "metadata": {
    "vscode": {
     "languageId": "javascript"
    }
   },
   "outputs": [],
   "source": [
    "%%js\n",
    "let num = [1,2,3,4,5,6,7,8,9,10];\n",
    "let sum = 0;\n",
    "for (let i=0;i<num.length;i++)\n",
    "{\n",
    "    sum=sum+num[i];\n",
    "}\n",
    "console.log(sum);"
   ]
  },
  {
   "cell_type": "code",
   "execution_count": null,
   "metadata": {
    "vscode": {
     "languageId": "javascript"
    }
   },
   "outputs": [],
   "source": [
    "// Function to check if a number is prime\n",
    "function isPrime(num) {\n",
    "    // A prime number is greater than 1\n",
    "    if (num < 2) {\n",
    "        return false; // Numbers less than 2 are not prime\n",
    "    }\n",
    "\n",
    "    // Check if num is divisible by any number from 2 to the square root of num\n",
    "    for (let i = 2; i <= Math.sqrt(num); i++) {\n",
    "        if (num % i === 0) {\n",
    "            return false; // If divisible, it's not a prime number\n",
    "        }\n",
    "    }\n",
    "\n",
    "    return true; // If no divisors are found, the number is prime\n",
    "}\n",
    "\n",
    "// Loop through numbers 1 to 50\n",
    "for (let n = 1; n <= 50; n++) \n",
    "    {\n",
    "    if (isPrime(n)) {\n",
    "        console.log(n); // Print the number if it's prime\n",
    "    }\n",
    "}\n"
   ]
  }
 ],
 "metadata": {
  "language_info": {
   "name": "python"
  }
 },
 "nbformat": 4,
 "nbformat_minor": 2
}
